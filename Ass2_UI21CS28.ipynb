{
 "cells": [
  {
   "cell_type": "code",
   "execution_count": 8,
   "id": "3ff1f1b6-377b-4eb9-8998-55b030007364",
   "metadata": {},
   "outputs": [
    {
     "name": "stdin",
     "output_type": "stream",
     "text": [
      "Enter the number of equations:  4\n"
     ]
    },
    {
     "name": "stdout",
     "output_type": "stream",
     "text": [
      "Enter the coefficients of the equations:\n"
     ]
    },
    {
     "name": "stdin",
     "output_type": "stream",
     "text": [
      " 2 0 -1 0\n",
      " 0 1 2 0\n",
      " -1 2 0 1\n",
      " 0 0 1 -2\n",
      "Enter the number of columns in matrix B:  2\n"
     ]
    },
    {
     "name": "stdout",
     "output_type": "stream",
     "text": [
      "Enter the constants for each column of matrix B:\n"
     ]
    },
    {
     "name": "stdin",
     "output_type": "stream",
     "text": [
      " 1 0\n",
      " 0 0\n",
      " 0 1\n",
      " 0 0\n"
     ]
    },
    {
     "name": "stdout",
     "output_type": "stream",
     "text": [
      "Solution:\n",
      "[0.4375, -0.125]\n",
      "[0.25, 0.5]\n",
      "[-0.125, -0.25]\n",
      "[-0.0625, -0.125]\n"
     ]
    }
   ],
   "source": [
    "#1. Gauss Elimination\n",
    "def gauss_elimination(A, b):\n",
    "    n = len(A)\n",
    "    \n",
    "    # Forward elimination\n",
    "    for col in range(n - 1):\n",
    "        for row in range(col + 1, n):\n",
    "            factor = A[row][col] / A[col][col]\n",
    "            for i in range(col, n):\n",
    "                A[row][i] -= factor * A[col][i]\n",
    "            for j in range(len(b[0])):\n",
    "                b[row][j] -= factor * b[col][j]\n",
    "    \n",
    "    # Back substitution\n",
    "    x = [[0] * len(b[0]) for _ in range(n)]\n",
    "    for j in range(len(b[0])):\n",
    "        for i in range(n - 1, -1, -1):\n",
    "            x[i][j] = b[i][j] / A[i][i]\n",
    "            for k in range(i + 1, n):\n",
    "                x[i][j] -= A[i][k] * x[k][j] / A[i][i]\n",
    "    \n",
    "    return x\n",
    "\n",
    "# Take user input for matrix A\n",
    "n = int(input(\"Enter the number of equations: \"))\n",
    "A = []\n",
    "print(\"Enter the coefficients of the equations:\")\n",
    "for _ in range(n):\n",
    "    row = list(map(float, input().split()))\n",
    "    A.append(row)\n",
    "\n",
    "# Take user input for matrix B\n",
    "m = int(input(\"Enter the number of columns in matrix B: \"))\n",
    "B = []\n",
    "print(\"Enter the constants for each column of matrix B:\")\n",
    "for _ in range(n):\n",
    "    row = list(map(float, input().split()))\n",
    "    B.append(row)\n",
    "\n",
    "solution = gauss_elimination(A, B)\n",
    "print(\"Solution:\")\n",
    "for row in solution:\n",
    "    print(row)"
   ]
  },
  {
   "cell_type": "code",
   "execution_count": 9,
   "id": "8547f1e7-d78c-407c-9df7-75998b36092e",
   "metadata": {},
   "outputs": [
    {
     "name": "stdin",
     "output_type": "stream",
     "text": [
      "Enter the number of equations:  4\n"
     ]
    },
    {
     "name": "stdout",
     "output_type": "stream",
     "text": [
      "Enter the coefficients of the equations:\n"
     ]
    },
    {
     "name": "stdin",
     "output_type": "stream",
     "text": [
      " 2 0 -1 0\n",
      " 0 1 2 0\n",
      " -1 2 0 1\n",
      " 0 0 1 -2\n",
      "Enter the number of columns in matrix B:  2\n"
     ]
    },
    {
     "name": "stdout",
     "output_type": "stream",
     "text": [
      "Enter the constants for each column of matrix B:\n"
     ]
    },
    {
     "name": "stdin",
     "output_type": "stream",
     "text": [
      " 1 0\n",
      " 0 0\n",
      " 0 1\n",
      " 0 0\n"
     ]
    },
    {
     "name": "stdout",
     "output_type": "stream",
     "text": [
      "Solution:\n",
      "[0.4375, -0.125]\n",
      "[0.25, 0.5]\n",
      "[-0.125, -0.25]\n",
      "[-0.0625, -0.125]\n"
     ]
    }
   ],
   "source": [
    "def gauss_elimination_pivot(A, b):\n",
    "    n = len(A)\n",
    "    \n",
    "    # Forward elimination with partial pivoting\n",
    "    for col in range(n - 1):\n",
    "        max_row = col\n",
    "        for row in range(col + 1, n):\n",
    "            if abs(A[row][col]) > abs(A[max_row][col]):\n",
    "                max_row = row\n",
    "        A[col], A[max_row] = A[max_row], A[col]\n",
    "        b[col], b[max_row] = b[max_row], b[col]\n",
    "        \n",
    "        for row in range(col + 1, n):\n",
    "            factor = A[row][col] / A[col][col]\n",
    "            for i in range(col, n):\n",
    "                A[row][i] -= factor * A[col][i]\n",
    "            for j in range(len(b[0])):\n",
    "                b[row][j] -= factor * b[col][j]\n",
    "    \n",
    "    # Back substitution\n",
    "    x = [[0] * len(b[0]) for _ in range(n)]\n",
    "    for j in range(len(b[0])):\n",
    "        for i in range(n - 1, -1, -1):\n",
    "            x[i][j] = b[i][j] / A[i][i]\n",
    "            for k in range(i + 1, n):\n",
    "                x[i][j] -= A[i][k] * x[k][j] / A[i][i]\n",
    "    \n",
    "    return x\n",
    "\n",
    "# Take user input for matrix A\n",
    "n = int(input(\"Enter the number of equations: \"))\n",
    "A = []\n",
    "print(\"Enter the coefficients of the equations:\")\n",
    "for _ in range(n):\n",
    "    row = list(map(float, input().split()))\n",
    "    A.append(row)\n",
    "\n",
    "# Take user input for matrix B\n",
    "m = int(input(\"Enter the number of columns in matrix B: \"))\n",
    "B = []\n",
    "print(\"Enter the constants for each column of matrix B:\")\n",
    "for _ in range(n):\n",
    "    row = list(map(float, input().split()))\n",
    "    B.append(row)\n",
    "\n",
    "solution = gauss_elimination_pivot(A, B)\n",
    "print(\"Solution:\")\n",
    "for row in solution:\n",
    "    print(row)\n"
   ]
  },
  {
   "cell_type": "code",
   "execution_count": null,
   "id": "2a885d6b-5a52-4a94-994e-e6a7bc9c3fb0",
   "metadata": {},
   "outputs": [],
   "source": []
  }
 ],
 "metadata": {
  "kernelspec": {
   "display_name": "Python 3 (ipykernel)",
   "language": "python",
   "name": "python3"
  },
  "language_info": {
   "codemirror_mode": {
    "name": "ipython",
    "version": 3
   },
   "file_extension": ".py",
   "mimetype": "text/x-python",
   "name": "python",
   "nbconvert_exporter": "python",
   "pygments_lexer": "ipython3",
   "version": "3.11.4"
  }
 },
 "nbformat": 4,
 "nbformat_minor": 5
}
