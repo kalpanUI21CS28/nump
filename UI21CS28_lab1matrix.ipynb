{
 "cells": [
  {
   "cell_type": "code",
   "execution_count": 5,
   "id": "0264d2c5-376a-45f1-b986-b5b80117705d",
   "metadata": {
    "scrolled": true
   },
   "outputs": [
    {
     "name": "stdout",
     "output_type": "stream",
     "text": [
      "Enter the coefficients matrix A:\n"
     ]
    },
    {
     "name": "stdin",
     "output_type": "stream",
     "text": [
      "Enter the number of rows in the matrix:  3\n",
      "Enter the number of columns in the matrix:  3\n"
     ]
    },
    {
     "name": "stdout",
     "output_type": "stream",
     "text": [
      "Enter the elements of row 1 separated by space:\n"
     ]
    },
    {
     "name": "stdin",
     "output_type": "stream",
     "text": [
      " 2 3 -1\n"
     ]
    },
    {
     "name": "stdout",
     "output_type": "stream",
     "text": [
      "Enter the elements of row 2 separated by space:\n"
     ]
    },
    {
     "name": "stdin",
     "output_type": "stream",
     "text": [
      " 4 1 2\n"
     ]
    },
    {
     "name": "stdout",
     "output_type": "stream",
     "text": [
      "Enter the elements of row 3 separated by space:\n"
     ]
    },
    {
     "name": "stdin",
     "output_type": "stream",
     "text": [
      " 1 -1 1\n"
     ]
    },
    {
     "name": "stdout",
     "output_type": "stream",
     "text": [
      "Enter the right-hand side vector B:\n"
     ]
    },
    {
     "name": "stdin",
     "output_type": "stream",
     "text": [
      "Enter the number of rows in the matrix:  3\n",
      "Enter the number of columns in the matrix:  1\n"
     ]
    },
    {
     "name": "stdout",
     "output_type": "stream",
     "text": [
      "Enter the elements of row 1 separated by space:\n"
     ]
    },
    {
     "name": "stdin",
     "output_type": "stream",
     "text": [
      " 5\n"
     ]
    },
    {
     "name": "stdout",
     "output_type": "stream",
     "text": [
      "Enter the elements of row 2 separated by space:\n"
     ]
    },
    {
     "name": "stdin",
     "output_type": "stream",
     "text": [
      " 7\n"
     ]
    },
    {
     "name": "stdout",
     "output_type": "stream",
     "text": [
      "Enter the elements of row 3 separated by space:\n"
     ]
    },
    {
     "name": "stdin",
     "output_type": "stream",
     "text": [
      " 3\n"
     ]
    },
    {
     "name": "stdout",
     "output_type": "stream",
     "text": [
      "Solution X:\n",
      "X1 = [4.4]\n",
      "X2 = [-2.6]\n",
      "X3 = [-4.0]\n"
     ]
    }
   ],
   "source": [
    "def validate_matrix(matrix):\n",
    "    num_rows = len(matrix)\n",
    "    num_cols = len(matrix[0])\n",
    "\n",
    "    for row in matrix:\n",
    "        if len(row) != num_cols:\n",
    "            return False\n",
    "\n",
    "    return True\n",
    "\n",
    "def gauss_jordan_elimination(A, B):\n",
    "    n = len(A)\n",
    "\n",
    "    for i in range(n):\n",
    "        # Check if the diagonal element is zero, if so, swap rows\n",
    "        if A[i][i] == 0:\n",
    "            for k in range(i + 1, n):\n",
    "                if A[k][i] != 0:\n",
    "                    A[i], A[k] = A[k], A[i]\n",
    "                    B[i], B[k] = B[k], B[i]\n",
    "                    break\n",
    "            else:\n",
    "                return None  # Matrix is singular, no unique solution\n",
    "\n",
    "        pivot = A[i][i]\n",
    "\n",
    "        # Normalize the pivot row\n",
    "        for j in range(n):\n",
    "            A[i][j] /= pivot\n",
    "        for j in range(len(B[i])):\n",
    "            B[i][j] /= pivot\n",
    "\n",
    "        # Eliminate other rows\n",
    "        for k in range(n):\n",
    "            if k != i:\n",
    "                factor = A[k][i]\n",
    "                for j in range(n):\n",
    "                    A[k][j] -= factor * A[i][j]\n",
    "                for j in range(len(B[k])):\n",
    "                    B[k][j] -= factor * B[i][j]\n",
    "\n",
    "    return B\n",
    "\n",
    "def get_matrix_input():\n",
    "    matrix = []\n",
    "    rows = int(input(\"Enter the number of rows in the matrix: \"))\n",
    "    cols = int(input(\"Enter the number of columns in the matrix: \"))\n",
    "\n",
    "    for i in range(rows):\n",
    "        print(f\"Enter the elements of row {i + 1} separated by space:\")\n",
    "        row = list(map(float, input().split()))\n",
    "        if len(row) != cols:\n",
    "            print(\"Invalid input! Please enter the correct number of elements.\")\n",
    "            return None\n",
    "        matrix.append(row)\n",
    "\n",
    "    return matrix\n",
    "\n",
    "if __name__ == \"__main__\":\n",
    "    print(\"Enter the coefficients matrix A:\")\n",
    "    A = get_matrix_input()\n",
    "\n",
    "    print(\"Enter the right-hand side vector B:\")\n",
    "    B = get_matrix_input()\n",
    "\n",
    "    if not A or not B:\n",
    "        print(\"Invalid input! Please provide valid matrices.\")\n",
    "    else:\n",
    "        if len(A) != len(B):\n",
    "            print(\"Invalid input! A and B matrices must have the same number of rows.\")\n",
    "        else:\n",
    "            solution = gauss_jordan_elimination(A, B)\n",
    "\n",
    "            if solution is None:\n",
    "                print(\"The matrix is singular. No unique solution exists.\")\n",
    "            else:\n",
    "                print(\"Solution X:\")\n",
    "                for i, x in enumerate(solution):\n",
    "                    print(f\"X{i + 1} =\", x)\n"
   ]
  },
  {
   "cell_type": "code",
   "execution_count": null,
   "id": "eca7f2bc-3696-40fa-a8b8-6ba7825c336e",
   "metadata": {},
   "outputs": [],
   "source": []
  }
 ],
 "metadata": {
  "kernelspec": {
   "display_name": "Python 3 (ipykernel)",
   "language": "python",
   "name": "python3"
  },
  "language_info": {
   "codemirror_mode": {
    "name": "ipython",
    "version": 3
   },
   "file_extension": ".py",
   "mimetype": "text/x-python",
   "name": "python",
   "nbconvert_exporter": "python",
   "pygments_lexer": "ipython3",
   "version": "3.11.4"
  }
 },
 "nbformat": 4,
 "nbformat_minor": 5
}
