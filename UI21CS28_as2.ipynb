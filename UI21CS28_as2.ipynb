{
 "cells": [
  {
   "cell_type": "code",
   "execution_count": null,
   "id": "989189fc-7405-4fed-a229-036301a2f867",
   "metadata": {},
   "outputs": [],
   "source": [
    "\"\"\"assignment 2\"\"\""
   ]
  },
  {
   "cell_type": "code",
   "execution_count": 5,
   "id": "534038bd-f172-47fb-ae12-59b26f11f0da",
   "metadata": {},
   "outputs": [
    {
     "name": "stdin",
     "output_type": "stream",
     "text": [
      "Enter the size of matrix A:  3\n",
      "Enter the values for row 1 of matrix A (space-separated):  2 -3 -1\n",
      "Enter the values for row 2 of matrix A (space-separated):  3 2 -5\n",
      "Enter the values for row 3 of matrix A (space-separated):  2 4 -1\n",
      "Enter the values for vector B (space-separated):  3 -9 -5\n"
     ]
    },
    {
     "name": "stdout",
     "output_type": "stream",
     "text": [
      "Solution: [ 0.65306122 -1.14285714  1.73469388]\n"
     ]
    }
   ],
   "source": [
    "# import numpy as np\n",
    "\n",
    "# def gauss_elimination(A, B):\n",
    "#     n = len(A)\n",
    "    \n",
    "#     # Augment the matrix A with matrix B\n",
    "#     augmented_matrix = np.concatenate((A, B.reshape(-1, 1)), axis=1)\n",
    "    \n",
    "#     # Perform Gaussian elimination\n",
    "#     for i in range(n):\n",
    "#         # Find the pivot row\n",
    "#         pivot_row = i\n",
    "#         for j in range(i + 1, n):\n",
    "#             if abs(augmented_matrix[j, i]) > abs(augmented_matrix[pivot_row, i]):\n",
    "#                 pivot_row = j\n",
    "        \n",
    "#         # Swap rows\n",
    "#         augmented_matrix[[i, pivot_row]] = augmented_matrix[[pivot_row, i]]\n",
    "        \n",
    "#         # Eliminate variables below the pivot\n",
    "#         for j in range(i + 1, n):\n",
    "#             factor = augmented_matrix[j, i] / augmented_matrix[i, i]\n",
    "#             augmented_matrix[j, i:] -= factor * augmented_matrix[i, i:]\n",
    "    \n",
    "#     # Back substitution\n",
    "#     X = np.zeros(n)\n",
    "#     for i in range(n - 1, -1, -1):\n",
    "#         X[i] = (augmented_matrix[i, -1] - np.dot(augmented_matrix[i, i+1:n], X[i+1:n])) / augmented_matrix[i, i]\n",
    "    \n",
    "#     return X\n",
    "\n",
    "# # Take user input for matrix A\n",
    "# n = int(input(\"Enter the size of matrix A: \"))\n",
    "# A = np.zeros((n, n))\n",
    "# for i in range(n):\n",
    "#     row = input(f\"Enter the values for row {i+1} of matrix A (space-separated): \").split()\n",
    "#     A[i] = [float(val) for val in row]\n",
    "\n",
    "# # Take user input for vector B\n",
    "# B = np.zeros(n)\n",
    "# B_input = input(\"Enter the values for vector B (space-separated): \").split()\n",
    "# B = np.array([float(val) for val in B_input])\n",
    "\n",
    "# solution = gauss_elimination(A, B)\n",
    "# print(\"Solution:\", solution)\n"
   ]
  },
  {
   "cell_type": "code",
   "execution_count": 7,
   "id": "446b87ab-38f6-41f6-beca-44d872d9d8e3",
   "metadata": {},
   "outputs": [
    {
     "name": "stdin",
     "output_type": "stream",
     "text": [
      "Enter the size of matrix A:  4\n",
      "Enter the values for row 1 of matrix A (space-separated):  2 0 -1 0\n",
      "Enter the values for row 2 of matrix A (space-separated):  0 1 2 0\n",
      "Enter the values for row 3 of matrix A (space-separated):  -1 2 0 1\n",
      "Enter the values for row 4 of matrix A (space-separated):  0 0 1 -2\n",
      "Enter the number of columns for matrix B:  2\n",
      "Enter the values for row 1 of matrix B (space-separated):  1 0\n",
      "Enter the values for row 2 of matrix B (space-separated):  0 0\n",
      "Enter the values for row 3 of matrix B (space-separated):  0 1\n",
      "Enter the values for row 4 of matrix B (space-separated):  0 0\n"
     ]
    },
    {
     "name": "stdout",
     "output_type": "stream",
     "text": [
      "Solutions:\n",
      "[[ 0.4375 -0.125 ]\n",
      " [ 0.25    0.5   ]\n",
      " [-0.125  -0.25  ]\n",
      " [-0.0625 -0.125 ]]\n"
     ]
    }
   ],
   "source": [
    "import numpy as np\n",
    "\n",
    "def gauss_elimination_pivot(A, B):\n",
    "    n = len(A)\n",
    "    \n",
    "    # Augment the matrix A with matrix B\n",
    "    augmented_matrix = np.concatenate((A, B), axis=1)\n",
    "    \n",
    "    # Perform Gaussian elimination with partial pivoting\n",
    "    for i in range(n):\n",
    "        # Partial Pivoting: Find the row with maximum value in the current column\n",
    "        pivot_row = i\n",
    "        for j in range(i + 1, n):\n",
    "            if abs(augmented_matrix[j, i]) > abs(augmented_matrix[pivot_row, i]):\n",
    "                pivot_row = j\n",
    "        \n",
    "        # Swap rows\n",
    "        augmented_matrix[[i, pivot_row]] = augmented_matrix[[pivot_row, i]]\n",
    "        \n",
    "        # Eliminate variables below the pivot\n",
    "        for j in range(i + 1, n):\n",
    "            factor = augmented_matrix[j, i] / augmented_matrix[i, i]\n",
    "            augmented_matrix[j, i:] -= factor * augmented_matrix[i, i:]\n",
    "    \n",
    "    # Back substitution\n",
    "    X = np.zeros((n, B.shape[1]))\n",
    "    for k in range(B.shape[1]):\n",
    "        for i in range(n - 1, -1, -1):\n",
    "            X[i, k] = (augmented_matrix[i, n + k] - np.dot(augmented_matrix[i, i+1:n], X[i+1:n, k])) / augmented_matrix[i, i]\n",
    "    \n",
    "    return X\n",
    "\n",
    "# Take user input for matrix A\n",
    "n = int(input(\"Enter the size of matrix A: \"))\n",
    "A = np.zeros((n, n))\n",
    "for i in range(n):\n",
    "    row = input(f\"Enter the values for row {i+1} of matrix A (space-separated): \").split()\n",
    "    A[i] = [float(val) for val in row]\n",
    "\n",
    "# Take user input for matrix B\n",
    "m = int(input(\"Enter the number of columns for matrix B: \"))\n",
    "B = np.zeros((n, m))\n",
    "for i in range(n):\n",
    "    row = input(f\"Enter the values for row {i+1} of matrix B (space-separated): \").split()\n",
    "    B[i] = [float(val) for val in row]\n",
    "\n",
    "solutions = gauss_elimination_pivot(A, B)\n",
    "print(\"Solutions:\")\n",
    "print(solutions)\n"
   ]
  },
  {
   "cell_type": "code",
   "execution_count": null,
   "id": "fede88ed-ce1e-4c2d-8ea9-9a3694cfb604",
   "metadata": {},
   "outputs": [],
   "source": []
  }
 ],
 "metadata": {
  "kernelspec": {
   "display_name": "Python 3 (ipykernel)",
   "language": "python",
   "name": "python3"
  },
  "language_info": {
   "codemirror_mode": {
    "name": "ipython",
    "version": 3
   },
   "file_extension": ".py",
   "mimetype": "text/x-python",
   "name": "python",
   "nbconvert_exporter": "python",
   "pygments_lexer": "ipython3",
   "version": "3.11.4"
  }
 },
 "nbformat": 4,
 "nbformat_minor": 5
}
